{
 "cells": [
  {
   "cell_type": "markdown",
   "metadata": {},
   "source": [
    "# GEOG0027 (2023/2024) Introduction to Google Earth Engine (GEE)\n"
   ]
  },
  {
   "cell_type": "markdown",
   "metadata": {},
   "source": [
    "This practical will use Google Earth Engine (GEE)'s python library [EE](https://developers.google.com/earth-engine) and [geemap library](https://geemap.org/) to rapidly visualise, analyse and download LandSat Images. These two libraries are built to handle remote sensing (RS) data from the Cloud without physically downloading the data to our local computers (unless we really want to), and they also allow easy python coding, where only small modifications are needed before handling large datasets. GEE hosts many popular RS datasets on the Cloud, and details of its data catalog can be found at: https://developers.google.com/earth-engine/datasets.\n",
    "\n",
    "GEE is natively written in JavaScript, and most web examples and the GEE official documentation are in this language. Here we use the python library to allow saveable code. The code is very similar between the two languages (function names are typically identical), with subtle differences between the syntax.\n",
    "\n",
    "## Jupyter setup - only needs completing once\n",
    "1) If you are using UCL's [Jupyter Hub](https://jupyter.data-science.rc.ucl.ac.uk/) (VPN required) to work with this chapter, please run the following command line in a `Terminal` (found top right of the Jupyter_Hub page under `New`) first:*\n",
    "\n",
    "`conda config --add envs_dirs /shared/groups/jrole001/geog0027/envs/`\n",
    "![terminal-add-env](images/terminal_add_env.png)\n",
    "\n",
    "2) To download this notebook, to execute and modify the code, first create a directory, as explained in the previous session (ie `mkdir GEOG0027`), then navigate to it and then run the following command in a `Terminal`:\n",
    "\n",
    "`wget https://github.com/UCL-EO/GEOG0027/raw/main/docs/Intro_to_GEE.ipynb`\n",
    "\n",
    "3) Then, run `source activate geemap` in terminal to activate the geemap environment;\n",
    "\n",
    "4) Run `jupyter nbextension install --py --symlink --user ipyleaflet` to install Leaflet extension, and then run `jupyter nbextension enable ipyleaflet --user --py` to enable the extension;\n",
    "\n",
    "5) Close `Terminal` and double check if the `jupyter-leaflet extension` is enabled (especially if no visible output map from running the examples below):\n",
    "\n",
    "![leaflet](images/leaflet.png)\n",
    "\n",
    "6) Now open this notebook (Intro_to_GEE.ipynb) on jupyterhub. You will need to change the kernel under `Kernel -> Change Kernel -> Python [conda env:geog0027-geemap]`. The images on this notebook will not display, but that is fine. Use this page to read the notes, and modify and explore the code on the jupyter hub version. \n",
    "\n",
    "7) Run the follwing code cell on jupyter hub. If you cannot see a Google Map showing, then try to reboot Jupyter Hub to make the jupyter-leaflet extension work. Before that, make sure you have saved all your current working notebooks. Then reboot Jupyter by clicking on Control Panel - Stop My Server - Start My Server.\n",
    "\n",
    "![rebootJupyter](images/reboot.png)"
   ]
  },
  {
   "cell_type": "markdown",
   "metadata": {},
   "source": [
    "## First map\n",
    "To create a map we first need to define a location. For this lesson aim to explore a location on the Earth of your choosing. Use google maps to pick a point and copy the coordinates.\n",
    "![rebootJupyter](images/GEE_find_loc.png)\n",
    "\n",
    "Enter the location in the cell below to define a map we use here. We start from displaying a basemap of the area. The first time when you use GEE, you will need to have a Google account and provide an authorization code. This can be a tricky task.\n",
    "\n",
    "First you need to first to create a new Cloud Project. The easiest way to do this is to got to https://code.earthengine.google.com/, login in using a google account, and then select `Register a new Cloud Project` from the menu in the top right corner.\n",
    "\n",
    "Then run cell below. Open the link provided in a new tab, and authorise a link to a google account. You can then select the Cloud Project registered previously.\n",
    "\n",
    "Get the key code, paste it in box and press return."
   ]
  },
  {
   "cell_type": "code",
   "execution_count": 1,
   "metadata": {},
   "outputs": [
    {
     "data": {
      "application/vnd.jupyter.widget-view+json": {
       "model_id": "973f6ec6dd1e4f6889fb224d1120ac27",
       "version_major": 2,
       "version_minor": 0
      },
      "text/plain": [
       "Map(center=[51.49163903397572, -0.08313179193795397], controls=(WidgetControl(options=['position', 'transparen…"
      ]
     },
     "metadata": {},
     "output_type": "display_data"
    }
   ],
   "source": [
    "import geemap, ee, os, numpy\n",
    "import ipyleaflet\n",
    "\n",
    "loc_coords = [51.49163903397572, -0.08313179193795397] ### EDIT THIS LINE WITH YOUR COORDS, [Lat,Lon] format\n",
    "# loc_coords = [45.340728103851525, 23.23940244865895] ### EDIT THIS LINE WITH YOUR COORDS, [Lat,Lon] format\n",
    "\n",
    "\n",
    "Map = geemap.Map(center=loc_coords, zoom=9)\n",
    "Map"
   ]
  },
  {
   "cell_type": "markdown",
   "metadata": {},
   "source": [
    "A basic Google Map-like interface should be displayed here now. If you can't see anything, please ensure that the ipyleaflet nbextension has been enabled."
   ]
  },
  {
   "cell_type": "markdown",
   "metadata": {},
   "source": [
    "## Setting the Area Of Interest (AOI)\n",
    "Now that we have a location to centre the Map on, we need to determine the size of the map. This can be done using a range in latitude/longitude using the function below. This cell just defines how a function works, and does not perform any actual calculations. To do this we then call the function."
   ]
  },
  {
   "cell_type": "code",
   "execution_count": 3,
   "metadata": {},
   "outputs": [],
   "source": [
    "def expand_coords(centre,lon_expand = 1.0,lat_expand = 0.5):\n",
    "    lat1 = centre[0]-lat_expand\n",
    "    lat2 = centre[0]+lat_expand\n",
    "    lon1 = centre[1]-lon_expand\n",
    "    lon2 = centre[1]+lon_expand\n",
    "    return [lon1,lat1,lon2,lat2,]\n",
    "    "
   ]
  },
  {
   "cell_type": "markdown",
   "metadata": {},
   "source": [
    "This next piece of code will then calculate the map size. If the map isn't the correct size for your liking, add into the function alternative settings for 'lon_expand' and 'lat_expand' from those set in the previous cell."
   ]
  },
  {
   "cell_type": "code",
   "execution_count": 4,
   "metadata": {},
   "outputs": [],
   "source": [
    "rec_coords = expand_coords(loc_coords)\n",
    "# rec_coords = expand_coords(loc_coords,lat_expand=0.7) ## example adjusted rectangle size\n",
    "local_rec = ee.Geometry.Rectangle(rec_coords) "
   ]
  },
  {
   "cell_type": "markdown",
   "metadata": {},
   "source": [
    "## Examining the time series\n",
    "Let's display a short 'movie' (a .gif file in fact) of how this area has changed over the past decades. This demonstrates the power of GEE - it is very quick to visualise a high volume of data."
   ]
  },
  {
   "cell_type": "code",
   "execution_count": 6,
   "metadata": {},
   "outputs": [
    {
     "name": "stdout",
     "output_type": "stream",
     "text": [
      "Generating URL...\n",
      "Downloading GIF image from https://earthengine.googleapis.com/v1alpha/projects/earthengine-legacy/videoThumbnails/746c46e6ddd18de2d847a968d3da8d79-4ad492bc3149b14a96289b8ae11fa4f7:getPixels\n",
      "Please wait ...\n",
      "The GIF image has been saved to: /Users/h/Downloads/landsat_ts_yjg.gif\n",
      "Adding animated text to GIF ...\n",
      "Adding GIF to the map ...\n",
      "The timelapse has been added to the map.\n"
     ]
    },
    {
     "data": {
      "application/vnd.jupyter.widget-view+json": {
       "model_id": "8216b9c89e5b4398a802572213bf4fb4",
       "version_major": 2,
       "version_minor": 0
      },
      "text/plain": [
       "Map(center=[45.340728103851525, 23.23940244865895], controls=(WidgetControl(options=['position', 'transparent_…"
      ]
     },
     "metadata": {},
     "output_type": "display_data"
    }
   ],
   "source": [
    "Map_gif = geemap.Map(center=loc_coords, zoom=10)\n",
    "Map_gif.add_landsat_ts_gif(roi=local_rec, start_year=1985, bands=['NIR', 'Red', 'Green'], frames_per_second=5)\n",
    "Map_gif"
   ]
  },
  {
   "cell_type": "markdown",
   "metadata": {},
   "source": [
    "Next, we will compare such change by using a slider"
   ]
  },
  {
   "cell_type": "code",
   "execution_count": 5,
   "metadata": {
    "code_folding": []
   },
   "outputs": [
    {
     "data": {
      "application/vnd.jupyter.widget-view+json": {
       "model_id": "ffeaba01699a4d37b8e832a7e1a31bfe",
       "version_major": 2,
       "version_minor": 0
      },
      "text/plain": [
       "Map(center=[51.494062487824685, -0.08313179193795121], controls=(WidgetControl(options=['position', 'transpare…"
      ]
     },
     "metadata": {},
     "output_type": "display_data"
    }
   ],
   "source": [
    "landsat_ts = geemap.landsat_timeseries(roi=local_rec, start_year=1986, end_year=2020, \\\n",
    "                                       start_date='01-01', end_date='12-31')\n",
    "\n",
    "layer_names = ['Landsat ' + str(year) for year in range(1986, 2021)]\n",
    "\n",
    "geemap_landsat_vis = {\n",
    "    'min': 0,\n",
    "    'max': 3000,\n",
    "    'gamma': [1, 1, 1],\n",
    "    'bands': ['NIR', 'Red', 'Green']} # You can change the vis bands here\n",
    "\n",
    "Map2 = geemap.Map()\n",
    "Map2.ts_inspector(left_ts=landsat_ts, right_ts=landsat_ts, left_names=layer_names, right_names=layer_names, \\\n",
    "                 left_vis=geemap_landsat_vis, right_vis=geemap_landsat_vis)\n",
    "Map2.centerObject(local_rec, zoom=10)\n",
    "Map2"
   ]
  },
  {
   "cell_type": "markdown",
   "metadata": {},
   "source": [
    "We have previously defined a rectangle by coordinates, but we can also use existing shape/vector files to select Areas of Interest (not shown here but used for the coursework). "
   ]
  },
  {
   "cell_type": "markdown",
   "metadata": {},
   "source": [
    "## Load Landsat data collections from GEE\n",
    "Now we can see the the buffered AOI displayed on the Map. Next, let's load some Landsat images for the selected area. I've defined here a python function called `display_landsat_collection` to do so. It automatically loads both the [surface reflectance](https://developers.google.com/earth-engine/datasets/catalog/LANDSAT_LC08_C01_T1_SR) and [annual NDVI](https://developers.google.com/earth-engine/datasets/catalog/LANDSAT_LC08_C01_T1_ANNUAL_NDVI) image collections from GEE's data catalog and also calculates the annual means for each band. \n",
    "\n",
    "You can skip most of the details of what's inside the code cell, but only to look at the first (and last) line of code. In order to run such function, you will need to choose a year (any year since 1984) and an AOI. In the following example, I choose year 2019 and a square box around London. "
   ]
  },
  {
   "cell_type": "code",
   "execution_count": 6,
   "metadata": {},
   "outputs": [],
   "source": [
    "landsat_vis_param = {\n",
    "            'min': 0,\n",
    "            'max': 3000,\n",
    "            'bands': ['NIR', 'Red', 'Green']  # False Colour Composit bands to be visualised \n",
    "}\n",
    "ndvi_colorized_vis = {\n",
    "            'min': 0.0,\n",
    "            'max': 1.0,\n",
    "            'palette': [\n",
    "            'FFFFFF', 'CE7E45', 'DF923D', 'F1B555', 'FCD163', '99B718', '74A901',\n",
    "            '66A000', '529400', '3E8601', '207401', '056201', '004C00', '023B01',\n",
    "            '012E01', '011D01', '011301']\n",
    "}"
   ]
  },
  {
   "cell_type": "code",
   "execution_count": 7,
   "metadata": {},
   "outputs": [],
   "source": [
    "def load_landsat_collection(inmap,year, aoi, cloud_tolerance = 3.0, \n",
    "                            DISPLAY_ON_MAP = False, MEDIAN_ONLY = False):\n",
    "    '''This function allows GEE to display a Landsat data collection \n",
    "    from any year between 1984 and present year\n",
    "    that fall within the AOI and cloud tolerance, e.g. 3.0%.\n",
    "    There are two optional flag:\n",
    "    When DISPLAY_ON_MAP is TRUE, display this layer onto Map;\n",
    "    When return_series = 'MEDIAN_ONLY', only median SR is loaded into landsat_ts, and\n",
    "    Setting this option to MEDIAN_ONLY would be faster than loading other collections. \n",
    "    '''\n",
    "    assert year >= 1984\n",
    "    \n",
    "    def renameBandsETM(image):\n",
    "        if year >=2013: #LS8\n",
    "            bands = ['B2', 'B3', 'B4', 'B5', 'B6', 'B7'] #, 'pixel_qa'\n",
    "            new_bands = ['Blue', 'Green', 'Red', 'NIR', 'SWIR1', 'SWIR2'] #, 'pixel_qa'\n",
    "        elif year <=1984:\n",
    "            bands = ['B1', 'B2', 'B3', 'B4', 'B5', 'B7', 'pixel_qa']\n",
    "            new_bands = ['Blue', 'Green', 'Red', 'NIR', 'SWIR1', 'SWIR2', 'pixel_qa']\n",
    "        return image.select(bands).rename(new_bands)\n",
    "        \n",
    "    if not(MEDIAN_ONLY):\n",
    "        if year >= 2013:\n",
    "            layer_name = 'LC08' # LS8: 2013-now        \n",
    "        elif year == 2012: # # LS7: 1999- , however SLC error >= 1999:\n",
    "            layer_name = 'LE07' \n",
    "        elif year >=1984:\n",
    "            layer_name = 'LT05' # LS5: 1984-2012\n",
    "       \n",
    "        collection_name_sr = f\"LANDSAT/{layer_name}/C01/T1_SR\" \n",
    "        # You can also use the following line, if interested in incorperating ndvi\n",
    "        collection_name_ndvi = f\"LANDSAT/{layer_name}/C01/T1_ANNUAL_NDVI\" \n",
    "\n",
    "        all_sr_image = ee.ImageCollection(collection_name_sr) \\\n",
    "            .filterBounds(aoi) \\\n",
    "            .filterDate(f'{year}-01-01', f'{year}-12-31') \\\n",
    "            .filter(ee.Filter.lt('CLOUD_COVER', cloud_tolerance))\\\n",
    "            .sort('system:time_start') \\\n",
    "            .select('B[1-7]') \\\n",
    "            .sort('CLOUD_COVER')\n",
    "\n",
    "        all_sr_image = all_sr_image.map(renameBandsETM) # rename bands with 'renameBandsETM' function\n",
    "        \n",
    "        # reduce all_sr_image to annual average per pixel\n",
    "        mean_image = all_sr_image.mean()\n",
    "        mean_image = mean_image.clip(aoi).unmask()\n",
    "\n",
    "        ndvi_image = ee.ImageCollection(collection_name_ndvi)\\\n",
    "            .filterBounds(aoi) \\\n",
    "            .filterDate(f'{year}-01-01', f'{year}-12-31')\\\n",
    "            .select('NDVI')\\\n",
    "            .median()\n",
    "        ndvi_image = ndvi_image.clip(aoi).unmask()\n",
    "\n",
    "        #mean_image.addBands(ndvi_image, 'NDVI')\n",
    "    \n",
    "    # This line loads all annual median surface ref\n",
    "    landsat_ts = geemap.landsat_timeseries(roi=aoi, start_year=year, end_year=year, \\\n",
    "                                       start_date='01-01', end_date='12-31')\n",
    "\n",
    "    median_image = landsat_ts.first().clip(aoi).unmask()\n",
    "    \n",
    "    if DISPLAY_ON_MAP == True:\n",
    "        \n",
    "        if not(MEDIAN_ONLY):\n",
    "            inmap.addLayer(ndvi_image, ndvi_colorized_vis, 'NDVI '+str(year),  opacity=0.9)\n",
    "            inmap.addLayer(mean_image, landsat_vis_param, \"Mean Ref \"+str(year))\n",
    "        inmap.addLayer(median_image, landsat_vis_param, \"Median Ref \"+str(year))\n",
    "\n",
    "    if MEDIAN_ONLY:\n",
    "        return median_image\n",
    "    else:\n",
    "        return all_sr_image, mean_image, median_image, ndvi_image "
   ]
  },
  {
   "cell_type": "markdown",
   "metadata": {},
   "source": [
    "Now the `load_landsat_collection` function has been defined, and we will run/execute it by calling the function name with appropriate input parameters (or 'arguments'). The output of such function will be returned to the variables on the LHS of the equal sign, i.e. all_image_2019, mean_2019, median_2019, and ndvi_2019 in this case.\n",
    "\n",
    "You may get an error if you have chosen a location where no cloud free images can be found. In this case, increase the `cloud_tolerance`."
   ]
  },
  {
   "cell_type": "code",
   "execution_count": 8,
   "metadata": {},
   "outputs": [
    {
     "data": {
      "application/vnd.jupyter.widget-view+json": {
       "model_id": "9c243eb3d45a445f9981ef79c79c695c",
       "version_major": 2,
       "version_minor": 0
      },
      "text/plain": [
       "Map(center=[51.49163903397572, -0.08313179193795397], controls=(WidgetControl(options=['position', 'transparen…"
      ]
     },
     "metadata": {},
     "output_type": "display_data"
    }
   ],
   "source": [
    "Map = geemap.Map(center=loc_coords, zoom=10)\n",
    "\n",
    "# All you need to modify here is the YEAR below:\n",
    "all_image_2019, mean_2019, median_2019, ndvi_2019 = load_landsat_collection(Map,2019,\\\n",
    "                                        local_rec, cloud_tolerance = 100,\\\n",
    "                                        DISPLAY_ON_MAP = True)\n",
    "Map"
   ]
  },
  {
   "cell_type": "markdown",
   "metadata": {},
   "source": [
    "You should examine the functions under the `toolbar` and `layer` buttons on the top-right corner of the Map, e.g. use the `inspector` and `plotting` tools to check the data values, or use `layers` control to switch on/off layers or to adjust opacity.\n",
    "\n",
    "We can also check the metadata from the Landsat image collection we just loaded from the Cloud. Have a look of the output. Any useful information?"
   ]
  },
  {
   "cell_type": "code",
   "execution_count": 11,
   "metadata": {},
   "outputs": [
    {
     "name": "stdout",
     "output_type": "stream",
     "text": [
      "{'CLOUD_COVER': 0, 'CLOUD_COVER_LAND': 0, 'EARTH_SUN_DISTANCE': 1.016734, 'ESPA_VERSION': '2_23_0_1b', 'GEOMETRIC_RMSE_MODEL': 7.162, 'GEOMETRIC_RMSE_MODEL_X': 4.84, 'GEOMETRIC_RMSE_MODEL_Y': 5.28, 'IMAGE_DATE': '2019-07-02', 'IMAGE_QUALITY_OLI': 9, 'IMAGE_QUALITY_TIRS': 9, 'LANDSAT_ID': 'LC08_L1TP_185029_20190702_20190706_01_T1', 'LEVEL1_PRODUCTION_DATE': 1562408365000, 'NOMINAL_SCALE': 30, 'PIXEL_QA_VERSION': 'generate_pixel_qa_1.6.0', 'SATELLITE': 'LANDSAT_8', 'SENSING_TIME': '2019-07-02T09:15:24.6234519Z', 'SOLAR_AZIMUTH_ANGLE': 136.611816, 'SOLAR_ZENITH_ANGLE': 26.959515, 'SR_APP_VERSION': 'LaSRC_1.3.0', 'WRS_PATH': 185, 'WRS_ROW': 29, 'system:asset_size': '593.230091 MB', 'system:band_names': ['Blue', 'Green', 'Red', 'NIR', 'SWIR1', 'SWIR2'], 'system:id': 'LANDSAT/LC08/C01/T1_SR/LC08_185029_20190702', 'system:index': 'LC08_185029_20190702', 'system:time_end': '2019-07-02 09:15:24', 'system:time_start': '2019-07-02 09:15:24', 'system:version': 1563395760808115}\n"
     ]
    }
   ],
   "source": [
    "first_image = all_image_2019.first() \n",
    "\n",
    "props = geemap.image_props(first_image)\n",
    "print( props.getInfo())"
   ]
  },
  {
   "cell_type": "markdown",
   "metadata": {},
   "source": [
    "The images shown so far are cropped agregates for the region we chose. To see the individual images involved in the composite, first get all the image names:"
   ]
  },
  {
   "cell_type": "code",
   "execution_count": 14,
   "metadata": {},
   "outputs": [
    {
     "data": {
      "text/plain": [
       "['LANDSAT/LC08/C01/T1_SR/LC08_201025_20190224',\n",
       " 'LANDSAT/LC08/C01/T1_SR/LC08_201025_20190920',\n",
       " 'LANDSAT/LC08/C01/T1_SR/LC08_202024_20190420',\n",
       " 'LANDSAT/LC08/C01/T1_SR/LC08_202025_20190420',\n",
       " 'LANDSAT/LC08/C01/T1_SR/LC08_202025_20190215',\n",
       " 'LANDSAT/LC08/C01/T1_SR/LC08_203024_20190918',\n",
       " 'LANDSAT/LC08/C01/T1_SR/LC08_201024_20190224',\n",
       " 'LANDSAT/LC08/C01/T1_SR/LC08_202024_20190215',\n",
       " 'LANDSAT/LC08/C01/T1_SR/LC08_201025_20190515',\n",
       " 'LANDSAT/LC08/C01/T1_SR/LC08_200024_20190305',\n",
       " 'LANDSAT/LC08/C01/T1_SR/LC08_201024_20190515',\n",
       " 'LANDSAT/LC08/C01/T1_SR/LC08_200024_20190524',\n",
       " 'LANDSAT/LC08/C01/T1_SR/LC08_203024_20190513',\n",
       " 'LANDSAT/LC08/C01/T1_SR/LC08_202024_20190826',\n",
       " 'LANDSAT/LC08/C01/T1_SR/LC08_201025_20191225',\n",
       " 'LANDSAT/LC08/C01/T1_SR/LC08_200025_20190217',\n",
       " 'LANDSAT/LC08/C01/T1_SR/LC08_200025_20190422',\n",
       " 'LANDSAT/LC08/C01/T1_SR/LC08_202024_20190130',\n",
       " 'LANDSAT/LC08/C01/T1_SR/LC08_200024_20191202',\n",
       " 'LANDSAT/LC08/C01/T1_SR/LC08_202024_20190725',\n",
       " 'LANDSAT/LC08/C01/T1_SR/LC08_201024_20191022',\n",
       " 'LANDSAT/LC08/C01/T1_SR/LC08_201025_20191006',\n",
       " 'LANDSAT/LC08/C01/T1_SR/LC08_200024_20190422',\n",
       " 'LANDSAT/LC08/C01/T1_SR/LC08_200025_20190524',\n",
       " 'LANDSAT/LC08/C01/T1_SR/LC08_201025_20190702',\n",
       " 'LANDSAT/LC08/C01/T1_SR/LC08_201024_20191209',\n",
       " 'LANDSAT/LC08/C01/T1_SR/LC08_200025_20191202',\n",
       " 'LANDSAT/LC08/C01/T1_SR/LC08_201024_20190920',\n",
       " 'LANDSAT/LC08/C01/T1_SR/LC08_201025_20191209',\n",
       " 'LANDSAT/LC08/C01/T1_SR/LC08_201025_20191022',\n",
       " 'LANDSAT/LC08/C01/T1_SR/LC08_201025_20190819',\n",
       " 'LANDSAT/LC08/C01/T1_SR/LC08_201025_20190413',\n",
       " 'LANDSAT/LC08/C01/T1_SR/LC08_202025_20190709',\n",
       " 'LANDSAT/LC08/C01/T1_SR/LC08_200025_20190625',\n",
       " 'LANDSAT/LC08/C01/T1_SR/LC08_201025_20190429',\n",
       " 'LANDSAT/LC08/C01/T1_SR/LC08_203024_20190817',\n",
       " 'LANDSAT/LC08/C01/T1_SR/LC08_201025_20191107',\n",
       " 'LANDSAT/LC08/C01/T1_SR/LC08_200025_20190406',\n",
       " 'LANDSAT/LC08/C01/T1_SR/LC08_203024_20190716',\n",
       " 'LANDSAT/LC08/C01/T1_SR/LC08_202025_20190725',\n",
       " 'LANDSAT/LC08/C01/T1_SR/LC08_201024_20190819',\n",
       " 'LANDSAT/LC08/C01/T1_SR/LC08_200024_20190625',\n",
       " 'LANDSAT/LC08/C01/T1_SR/LC08_202024_20191130',\n",
       " 'LANDSAT/LC08/C01/T1_SR/LC08_202025_20190130',\n",
       " 'LANDSAT/LC08/C01/T1_SR/LC08_202025_20190810',\n",
       " 'LANDSAT/LC08/C01/T1_SR/LC08_201024_20190904',\n",
       " 'LANDSAT/LC08/C01/T1_SR/LC08_203024_20190310',\n",
       " 'LANDSAT/LC08/C01/T1_SR/LC08_201024_20190702',\n",
       " 'LANDSAT/LC08/C01/T1_SR/LC08_201025_20190904',\n",
       " 'LANDSAT/LC08/C01/T1_SR/LC08_200024_20190217',\n",
       " 'LANDSAT/LC08/C01/T1_SR/LC08_200025_20190201',\n",
       " 'LANDSAT/LC08/C01/T1_SR/LC08_201025_20190616',\n",
       " 'LANDSAT/LC08/C01/T1_SR/LC08_200024_20191031',\n",
       " 'LANDSAT/LC08/C01/T1_SR/LC08_201024_20190413',\n",
       " 'LANDSAT/LC08/C01/T1_SR/LC08_200025_20190711',\n",
       " 'LANDSAT/LC08/C01/T1_SR/LC08_201024_20190123',\n",
       " 'LANDSAT/LC08/C01/T1_SR/LC08_201024_20191107',\n",
       " 'LANDSAT/LC08/C01/T1_SR/LC08_203024_20190902',\n",
       " 'LANDSAT/LC08/C01/T1_SR/LC08_200025_20190508',\n",
       " 'LANDSAT/LC08/C01/T1_SR/LC08_200024_20190913',\n",
       " 'LANDSAT/LC08/C01/T1_SR/LC08_202025_20190826',\n",
       " 'LANDSAT/LC08/C01/T1_SR/LC08_200024_20190711',\n",
       " 'LANDSAT/LC08/C01/T1_SR/LC08_202024_20191029',\n",
       " 'LANDSAT/LC08/C01/T1_SR/LC08_202025_20191114',\n",
       " 'LANDSAT/LC08/C01/T1_SR/LC08_203024_20190801',\n",
       " 'LANDSAT/LC08/C01/T1_SR/LC08_201024_20190429',\n",
       " 'LANDSAT/LC08/C01/T1_SR/LC08_200024_20190812',\n",
       " 'LANDSAT/LC08/C01/T1_SR/LC08_202025_20190522',\n",
       " 'LANDSAT/LC08/C01/T1_SR/LC08_200025_20190305',\n",
       " 'LANDSAT/LC08/C01/T1_SR/LC08_203024_20191020',\n",
       " 'LANDSAT/LC08/C01/T1_SR/LC08_203024_20190222',\n",
       " 'LANDSAT/LC08/C01/T1_SR/LC08_201024_20191006',\n",
       " 'LANDSAT/LC08/C01/T1_SR/LC08_203024_20190427',\n",
       " 'LANDSAT/LC08/C01/T1_SR/LC08_202025_20190506',\n",
       " 'LANDSAT/LC08/C01/T1_SR/LC08_200024_20190609',\n",
       " 'LANDSAT/LC08/C01/T1_SR/LC08_200025_20190812',\n",
       " 'LANDSAT/LC08/C01/T1_SR/LC08_203024_20191207',\n",
       " 'LANDSAT/LC08/C01/T1_SR/LC08_203024_20190630',\n",
       " 'LANDSAT/LC08/C01/T1_SR/LC08_201025_20190328',\n",
       " 'LANDSAT/LC08/C01/T1_SR/LC08_200025_20191015',\n",
       " 'LANDSAT/LC08/C01/T1_SR/LC08_200025_20191218',\n",
       " 'LANDSAT/LC08/C01/T1_SR/LC08_201024_20190328',\n",
       " 'LANDSAT/LC08/C01/T1_SR/LC08_200025_20191031',\n",
       " 'LANDSAT/LC08/C01/T1_SR/LC08_202024_20191114',\n",
       " 'LANDSAT/LC08/C01/T1_SR/LC08_202024_20190522',\n",
       " 'LANDSAT/LC08/C01/T1_SR/LC08_203024_20190121',\n",
       " 'LANDSAT/LC08/C01/T1_SR/LC08_200024_20190828',\n",
       " 'LANDSAT/LC08/C01/T1_SR/LC08_200025_20190913',\n",
       " 'LANDSAT/LC08/C01/T1_SR/LC08_202024_20190709',\n",
       " 'LANDSAT/LC08/C01/T1_SR/LC08_202024_20190623',\n",
       " 'LANDSAT/LC08/C01/T1_SR/LC08_201024_20190803',\n",
       " 'LANDSAT/LC08/C01/T1_SR/LC08_200025_20190828',\n",
       " 'LANDSAT/LC08/C01/T1_SR/LC08_200025_20190116',\n",
       " 'LANDSAT/LC08/C01/T1_SR/LC08_200025_20190609',\n",
       " 'LANDSAT/LC08/C01/T1_SR/LC08_201025_20190803',\n",
       " 'LANDSAT/LC08/C01/T1_SR/LC08_203024_20190206']"
      ]
     },
     "execution_count": 14,
     "metadata": {},
     "output_type": "execute_result"
    }
   ],
   "source": [
    "# gtest.getInfo()\n",
    "image_list = all_image_2019.aggregate_array('system:id')\n",
    "Im_list = image_list.getInfo()\n",
    "# Im_list.sort()\n",
    "Im_list"
   ]
  },
  {
   "cell_type": "code",
   "execution_count": 10,
   "metadata": {},
   "outputs": [
    {
     "ename": "AttributeError",
     "evalue": "'Image' object has no attribute 'aggregate_array'",
     "output_type": "error",
     "traceback": [
      "\u001b[0;31m---------------------------------------------------------------------------\u001b[0m",
      "\u001b[0;31mAttributeError\u001b[0m                            Traceback (most recent call last)",
      "\u001b[0;32m<ipython-input-10-5cc81ac33dfa>\u001b[0m in \u001b[0;36m<module>\u001b[0;34m\u001b[0m\n\u001b[1;32m      1\u001b[0m \u001b[0;31m# gtest.getInfo()\u001b[0m\u001b[0;34m\u001b[0m\u001b[0;34m\u001b[0m\u001b[0;34m\u001b[0m\u001b[0m\n\u001b[0;32m----> 2\u001b[0;31m \u001b[0mimage_list\u001b[0m \u001b[0;34m=\u001b[0m \u001b[0mndvi_2019\u001b[0m\u001b[0;34m.\u001b[0m\u001b[0maggregate_array\u001b[0m\u001b[0;34m(\u001b[0m\u001b[0;34m'system:id'\u001b[0m\u001b[0;34m)\u001b[0m\u001b[0;34m\u001b[0m\u001b[0;34m\u001b[0m\u001b[0m\n\u001b[0m\u001b[1;32m      3\u001b[0m \u001b[0mimage_list\u001b[0m\u001b[0;34m.\u001b[0m\u001b[0mgetInfo\u001b[0m\u001b[0;34m(\u001b[0m\u001b[0;34m)\u001b[0m\u001b[0;34m\u001b[0m\u001b[0;34m\u001b[0m\u001b[0m\n",
      "\u001b[0;31mAttributeError\u001b[0m: 'Image' object has no attribute 'aggregate_array'"
     ]
    }
   ],
   "source": [
    "# gtest.getInfo()\n",
    "image_list = ndvi_2019.aggregate_array('system:id')\n",
    "image_list.getInfo()"
   ]
  },
  {
   "cell_type": "markdown",
   "metadata": {},
   "source": [
    "Is this list longer or shorter than you expected? \n",
    "> What happens when you adust `cloud_tolerance = ?` in the previous function call?\n",
    ">\n",
    "> Copy one of the images from the list generated by the previous code cell into the cell below. \n",
    "\n",
    "We will start by getting the band names. "
   ]
  },
  {
   "cell_type": "code",
   "execution_count": 14,
   "metadata": {},
   "outputs": [
    {
     "data": {
      "text/plain": [
       "['B1',\n",
       " 'B2',\n",
       " 'B3',\n",
       " 'B4',\n",
       " 'B5',\n",
       " 'B6',\n",
       " 'B7',\n",
       " 'B10',\n",
       " 'B11',\n",
       " 'sr_aerosol',\n",
       " 'pixel_qa',\n",
       " 'radsat_qa']"
      ]
     },
     "execution_count": 14,
     "metadata": {},
     "output_type": "execute_result"
    }
   ],
   "source": [
    "### NOTE, this code will not work until you edit it !!!\n",
    "image_name = 'LANDSAT/LC08/C01/T1_SR/LC08_186028_20190810'\n",
    "single_image = ee.Image(image_name)\n",
    "\n",
    "single_image.bandNames().getInfo()"
   ]
  },
  {
   "cell_type": "markdown",
   "metadata": {},
   "source": [
    "If we want to find this image on the original USGS website (see in the final section) then we can use the original satellite retrieval Time, Path and Row to find it. These are printed below."
   ]
  },
  {
   "cell_type": "code",
   "execution_count": 15,
   "metadata": {},
   "outputs": [
    {
     "name": "stdout",
     "output_type": "stream",
     "text": [
      "Date/Time = 2019-08-10T09:21:23.5874220Z\n",
      "Path = 186\n",
      "Row = 28\n"
     ]
    }
   ],
   "source": [
    "\n",
    "print('Date/Time = {}'.format(single_image.get('SENSING_TIME').getInfo()))\n",
    "print('Path = {}'.format(single_image.get('WRS_PATH').getInfo()))\n",
    "print('Row = {}'.format(single_image.get('WRS_ROW').getInfo()))\n"
   ]
  },
  {
   "cell_type": "markdown",
   "metadata": {},
   "source": [
    "Previously the bands were renamed, but for a single image, we need to use the original band names. These are typically B[1-8], though you may need to adjust these depending on the year chosen.\n",
    "\n",
    "First we will look at a single band of a single image."
   ]
  },
  {
   "cell_type": "code",
   "execution_count": 16,
   "metadata": {},
   "outputs": [
    {
     "data": {
      "application/vnd.jupyter.widget-view+json": {
       "model_id": "535a2314f8a14a97bdf57a6354079b96",
       "version_major": 2,
       "version_minor": 0
      },
      "text/plain": [
       "Map(bottom=376524.0, center=[45.23017314147431, 22.65243530273438], controls=(WidgetControl(options=['position…"
      ]
     },
     "metadata": {},
     "output_type": "display_data"
    }
   ],
   "source": [
    "#### adjust 'band_use' to look at a different band.\n",
    "band_use = 'B7'\n",
    "landsat_single_vis = {'min': 0,'max': 3000,'bands': [band_use]}\n",
    "\n",
    "Map.addLayer(single_image,landsat_single_vis,image_name+band_use)\n",
    "\n",
    "Map"
   ]
  },
  {
   "cell_type": "markdown",
   "metadata": {},
   "source": [
    "Now we combine several bands to create a Red/Green/Blue image.\n",
    "> Can you change this to a False Colour image? \n",
    ">\n",
    ">Can you add all the images that make up the previous mean/median composites?"
   ]
  },
  {
   "cell_type": "code",
   "execution_count": 17,
   "metadata": {},
   "outputs": [
    {
     "data": {
      "application/vnd.jupyter.widget-view+json": {
       "model_id": "535a2314f8a14a97bdf57a6354079b96",
       "version_major": 2,
       "version_minor": 0
      },
      "text/plain": [
       "Map(bottom=11912.0, center=[46.15700496290803, 22.840576171875004], controls=(WidgetControl(options=['position…"
      ]
     },
     "metadata": {},
     "output_type": "display_data"
    }
   ],
   "source": [
    "landsat_vis = {'min': 0,'max': 3000,'bands': ['B4', 'B3', 'B2']}\n",
    "\n",
    "Map.addLayer(single_image,landsat_vis,image_name)\n",
    "\n",
    "Map"
   ]
  },
  {
   "cell_type": "markdown",
   "metadata": {},
   "source": [
    "Next, examine the mean, median surface reflectance and/or NDVI layers we've visualized.\n",
    ">Which one is most useful? \n",
    ">\n",
    ">How do these relate to the individual images?\n",
    "\n",
    "One particular issue that can arise is taking the 'mean' of individiual NDVI images. Instead we can take the 'NDVI' of mean images (or medians).\n",
    "\n",
    "\n",
    "In addition to switching layers on and off, adjusting opacity, we can also use python code to some simple mathmatical operations, e.g. calculating the differences:"
   ]
  },
  {
   "cell_type": "code",
   "execution_count": 18,
   "metadata": {},
   "outputs": [
    {
     "data": {
      "application/vnd.jupyter.widget-view+json": {
       "model_id": "535a2314f8a14a97bdf57a6354079b96",
       "version_major": 2,
       "version_minor": 0
      },
      "text/plain": [
       "Map(bottom=23572.0, center=[46.069419674968536, 21.928710937500004], controls=(WidgetControl(options=['positio…"
      ]
     },
     "metadata": {},
     "output_type": "display_data"
    }
   ],
   "source": [
    "mean_ndvi = mean_2019.normalizedDifference(['NIR', 'Red'])\n",
    "median_ndvi = median_2019.normalizedDifference(['NIR', 'Red'])\n",
    "median_ndwi = median_2019.normalizedDifference(['Green','NIR'])\n",
    "\n",
    "Map.addLayer(mean_ndvi, ndvi_colorized_vis, 'NDVI from Mean LS')\n",
    "Map.addLayer(median_ndvi, ndvi_colorized_vis, 'NDVI from Median LS')\n",
    "Map.addLayer(mean_ndvi.subtract(median_ndvi), {'min': -0.2,'max': 0.2}, 'Diff in NDVI')\n",
    "Map.addLayer(median_ndwi, ndvi_colorized_vis, 'NDWI from Median LS')\n",
    "Map"
   ]
  },
  {
   "cell_type": "markdown",
   "metadata": {},
   "source": [
    "## Downloading Images\n",
    "What we've preformed so far, involves working entirely in the GEE cloud. This is great for quick image exploration and combining images for certain areas. Sometimes however we want to download the images for prosperity, or for finer analysis beyond the GEE function library.\n",
    "\n",
    "The `ee_export_image()` function allows us to download all the images we've explored so far."
   ]
  },
  {
   "cell_type": "code",
   "execution_count": 11,
   "metadata": {},
   "outputs": [
    {
     "name": "stdout",
     "output_type": "stream",
     "text": [
      "Generating URL ...\n",
      "Downloading data from https://earthengine.googleapis.com/v1alpha/projects/earthengine-legacy/thumbnails/db8d791dac5dad8ff4f3f7b92ec401fc-7c0de42974bd3768b19614ef586c9e3c:getPixels\n",
      "Please wait ...\n",
      "Data downloaded to /Users/h/GEOG/GEOG0027/GEOG0027/docs/single_image.tif\n"
     ]
    }
   ],
   "source": [
    "### this will download the single_iamge shown above\n",
    "### remember to change the filename for multiple downloads\n",
    "geemap.ee_export_image(single_image,filename='single_image.tif')"
   ]
  },
  {
   "cell_type": "code",
   "execution_count": 14,
   "metadata": {},
   "outputs": [
    {
     "name": "stdout",
     "output_type": "stream",
     "text": [
      "Generating URL ...\n",
      "Downloading data from https://earthengine.googleapis.com/v1alpha/projects/earthengine-legacy/thumbnails/d161d2eb6af91fc0c78836cedbe79dee-4af0fc6220285a7236dab16a0499bee7:getPixels\n",
      "Please wait ...\n",
      "Data downloaded to /Users/h/GEOG/GEOG0027/GEOG0027/docs/Median_NDVI_2019.tif\n"
     ]
    }
   ],
   "source": [
    "### this will download the NDVI composite. \n",
    "### you may need to adjust the scale parameter to allow the download\n",
    "geemap.ee_export_image(median_2019, filename='Median_NDVI_2019.tif', \\\n",
    "                            scale=200, region=local_rec) "
   ]
  },
  {
   "cell_type": "markdown",
   "metadata": {},
   "source": [
    "How do you rate the quality of the downloaded images? Do you think Google is restricting bandwidth and not sending the full image? Well there is a way to get the original images."
   ]
  },
  {
   "cell_type": "markdown",
   "metadata": {},
   "source": [
    "# Download raw images (USGS)"
   ]
  },
  {
   "cell_type": "markdown",
   "metadata": {},
   "source": [
    "In this section, you will learn how to order Landsat data from the USGS, including how to search only for the area we are interested in, or how to go to the exact image you want. \n",
    "\n",
    ">Can you get the original versions of the single images found using GEE?"
   ]
  },
  {
   "cell_type": "markdown",
   "metadata": {},
   "source": [
    "## Downloading and visualisation tools "
   ]
  },
  {
   "cell_type": "markdown",
   "metadata": {},
   "source": [
    "There are several tools available to you for browsing and ordering Landsat data. See the [USGS](https://www.usgs.gov/land-resources/nli/landsat/landsat-data-access?qt-science_support_page_related_con=0#qt-science_support_page_related_con) for a full description of the data products and where to order them.\n",
    "\n",
    "You will most often be interested in **surface reflectance** products. These can be ordered through the [USGS Earth Resources Observation and Science (EROS) Center Science Processing Architecture (ESPA) On Demand Interface](https://espa.cr.usgs.gov/).\n",
    "\n",
    "\n",
    "The first time you visit the ordering service, you will need to [register for an account](https://ers.cr.usgs.gov/register/). Make sure you remember the usename and password you used for registration!\n",
    "\n",
    "Once at the [USGS Earth Resources Observation and Science (EROS) Center Science Processing Architecture (ESPA) On Demand Interface](https://espa.cr.usgs.gov/) site, make yourself aware of the information on [surface reflectance](https://www.usgs.gov/land-resources/nli/landsat/landsat-surface-reflectance?qt-science_support_page_related_con=0#qt-science_support_page_related_con).\n",
    "\n"
   ]
  },
  {
   "cell_type": "markdown",
   "metadata": {},
   "source": [
    "## Select Landsat Scenes\n",
    "\n",
    "To select a particular landsat scene, go to the [Earth Explorer]() site.\n",
    "\n",
    "Enter the place you are interested in, in the `Search Criteria` (e.g. try: London, England) or select an area on the graphic using the `Use Map` polygon option. To get the image we found using GEE, this needs to be consistent with previous options.\n",
    "\n",
    "\n",
    "https://earthexplorer.usgs.gov\n",
    "Under `Data Sets`, look in `Landsat -> Collection 1 Level 1` and check all of the boxes that have surface reflectance data. This will be for different sensors in the Landsat series (LS4-5, LS-7, LS-8).\n",
    "\n",
    "You *may* wish to set a cloud cover limitation (e.g. 10%) under `Search Criteria -> Cloud Cover`.\n",
    "You *may* wish to set a time period (e.g. covering the previously made composite) under `Search Criteria -> Date Range`.\n",
    "\n",
    "\n",
    "Click on 'Results' and look at a few of the images. In particular, you should look at [which `PATH` and `ROW`](https://landsat.usgs.gov/landsat_acq) is appropriate for the area you want data for. This could, for example be\n",
    "\n",
    "        Path 201\n",
    "        Row 24\n",
    "        \n",
    "Can you use the Path and Row information found previously using GEE? This is set under `Additional Criteria`.\n",
    "        \n",
    "        \n",
    "Now, you can go back to the `Search Criteria` and enter just the path/row that you want, and/or just go through and add the files you want to download to the basket. This is the bar you have:\n",
    "Footprint, Overlay, Compare, Metadata, Download, Bulk Download, Order Scene, Remove\n",
    " \n",
    "![options](images/USGS_options.png)\n",
    "\n",
    "The first two are good for looking at, checking the cloud cover, and image cover. Choose Download to get the full image. Select the GeoTIFF, the largest file. Once this image is donwloaded, it can be opened using ENVI.\n"
   ]
  },
  {
   "cell_type": "markdown",
   "metadata": {},
   "source": [
    "This ends the work for the first practical on GEE. Well done.\n",
    "\n",
    "Now go back and adjust the options for each of the previous tasks. Can you explore a different location, or time?"
   ]
  },
  {
   "cell_type": "markdown",
   "metadata": {},
   "source": [
    "## Summary\n",
    "\n",
    "In this practical we have introduced Google Earth Engine (GEE) and how to obtain satellite images from the LandSat Archive.\n",
    "\n",
    "In particular we have:\n",
    "* Introduced using jupyter notebooks to run code examples and view a GEE map.\n",
    "* Introduced the GEE code library and used it to rapidly view a time series of images from an arbitrary location from the Earths surface.\n",
    "* Explored the individual images that make up a yearly composite.\n",
    "* Explored the individual bands that make up a LandSat image.\n",
    "\n",
    "From the information obtained from exploring GEE we can find out\n",
    "* An individual images retrieval time and date.\n",
    "* Each images specific retrieval details (Path and Row).\n",
    "* Used these details to obtain the original image from USGS."
   ]
  }
 ],
 "metadata": {
  "kernelspec": {
   "display_name": "Python 3",
   "language": "python",
   "name": "python3"
  },
  "language_info": {
   "codemirror_mode": {
    "name": "ipython",
    "version": 3
   },
   "file_extension": ".py",
   "mimetype": "text/x-python",
   "name": "python",
   "nbconvert_exporter": "python",
   "pygments_lexer": "ipython3",
   "version": "3.6.12"
  }
 },
 "nbformat": 4,
 "nbformat_minor": 4
}
